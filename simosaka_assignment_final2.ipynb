{
  "nbformat": 4,
  "nbformat_minor": 0,
  "metadata": {
    "colab": {
      "name": "simosaka-assignment-final2.ipynb",
      "version": "0.3.2",
      "views": {},
      "default_view": {},
      "provenance": []
    },
    "kernelspec": {
      "name": "python3",
      "display_name": "Python 3"
    }
  },
  "cells": [
    {
      "metadata": {
        "id": "ndT9soScQMQR",
        "colab_type": "code",
        "colab": {
          "autoexec": {
            "startup": false,
            "wait_interval": 0
          }
        }
      },
      "cell_type": "code",
      "source": [
        "import numpy as np\n",
        "import matplotlib.pyplot as plt\n",
        "\n",
        "A = np.matrix([[3,0.5],[0.5,1]])\n",
        "mu = np.matrix([[1],[2]],dtype='float')\n",
        "eta = (4 - np.sqrt(5))/11\n",
        "\n",
        "def softThreshold(wt):\n",
        "  q = eta * lda\n",
        "  mut = wt - eta * 2 * A * (wt - mu)\n",
        "  for i,wti in enumerate(wt):\n",
        "    if(mut[i] > q):\n",
        "      wt[i] = mut[i] - q\n",
        "    elif(mut[i] < -1 * q):\n",
        "      wt[i] = mut[i] + q\n",
        "    else :\n",
        "      wt[i] = 0\n",
        "  return wt"
      ],
      "execution_count": 0,
      "outputs": []
    },
    {
      "metadata": {
        "id": "bYUdtOmcdznQ",
        "colab_type": "code",
        "colab": {
          "autoexec": {
            "startup": false,
            "wait_interval": 0
          }
        }
      },
      "cell_type": "code",
      "source": [
        "def learn():\n",
        "  w = np.matrix([[0],[0]],dtype='float')\n",
        "  result = np.zeros(101)\n",
        "  for i in range(0,101):\n",
        "    result[i] = np.linalg.norm(w - w_hat)\n",
        "    w = softThreshold(w)\n",
        "  x = range(0,101)\n",
        "  plt.yscale(\"log\")\n",
        "  plt.plot(x,result,label=\"diff\")\n",
        "  return"
      ],
      "execution_count": 0,
      "outputs": []
    },
    {
      "metadata": {
        "id": "4qS6Wwm5jrdM",
        "colab_type": "code",
        "colab": {
          "autoexec": {
            "startup": false,
            "wait_interval": 0
          },
          "base_uri": "https://localhost:8080/",
          "height": 347
        },
        "outputId": "c05c6474-97d6-47fc-b8c0-ac04c19f2ef8",
        "executionInfo": {
          "status": "ok",
          "timestamp": 1533497265416,
          "user_tz": -540,
          "elapsed": 731,
          "user": {
            "displayName": "大森淳貴",
            "photoUrl": "https://lh3.googleusercontent.com/a/default-user=s128",
            "userId": "114579814927558411776"
          }
        }
      },
      "cell_type": "code",
      "source": [
        "lda = 2\n",
        "w_hat = np.matrix([[0.82],[1.09]])\n",
        "learn()"
      ],
      "execution_count": 57,
      "outputs": [
        {
          "output_type": "display_data",
          "data": {
            "image/png": "[encoded data removed]",
            "text/plain": [
              "<matplotlib.figure.Figure at 0x7fdf25c59278>"
            ]
          },
          "metadata": {
            "tags": []
          }
        }
      ]
    },
    {
      "metadata": {
        "id": "NV65JhLnj2Og",
        "colab_type": "code",
        "colab": {
          "autoexec": {
            "startup": false,
            "wait_interval": 0
          },
          "base_uri": "https://localhost:8080/",
          "height": 347
        },
        "outputId": "e0522ab5-02ab-45c0-915d-c548cefb42e5",
        "executionInfo": {
          "status": "ok",
          "timestamp": 1533497302028,
          "user_tz": -540,
          "elapsed": 767,
          "user": {
            "displayName": "大森淳貴",
            "photoUrl": "https://lh3.googleusercontent.com/a/default-user=s128",
            "userId": "114579814927558411776"
          }
        }
      },
      "cell_type": "code",
      "source": [
        "lda = 4\n",
        "w_hat = np.matrix([[0.64],[0.18]])\n",
        "learn()"
      ],
      "execution_count": 58,
      "outputs": [
        {
          "output_type": "display_data",
          "data": {
            "image/png": "[encoded data removed]",
            "text/plain": [
              "<matplotlib.figure.Figure at 0x7fdf259e13c8>"
            ]
          },
          "metadata": {
            "tags": []
          }
        }
      ]
    },
    {
      "metadata": {
        "id": "UYqlmFN5kAbD",
        "colab_type": "code",
        "colab": {
          "autoexec": {
            "startup": false,
            "wait_interval": 0
          },
          "base_uri": "https://localhost:8080/",
          "height": 347
        },
        "outputId": "06e922e1-34e2-4405-fd40-123d0f750788",
        "executionInfo": {
          "status": "ok",
          "timestamp": 1533497336123,
          "user_tz": -540,
          "elapsed": 746,
          "user": {
            "displayName": "大森淳貴",
            "photoUrl": "https://lh3.googleusercontent.com/a/default-user=s128",
            "userId": "114579814927558411776"
          }
        }
      },
      "cell_type": "code",
      "source": [
        "lda = 6\n",
        "w_hat = np.matrix([[0.33],[0.0]])\n",
        "learn()"
      ],
      "execution_count": 59,
      "outputs": [
        {
          "output_type": "display_data",
          "data": {
            "image/png": "[encoded data removed]",
            "text/plain": [
              "<matplotlib.figure.Figure at 0x7fdf258d9390>"
            ]
          },
          "metadata": {
            "tags": []
          }
        }
      ]
    }
  ]
}